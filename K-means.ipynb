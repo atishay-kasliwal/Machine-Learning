{
 "cells": [
  {
   "cell_type": "code",
   "execution_count": 1,
   "metadata": {},
   "outputs": [],
   "source": [
    "import numpy as np\n",
    "import pandas as pd\n",
    "import matplotlib.pyplot as plt\n",
    "import seaborn as sns"
   ]
  },
  {
   "cell_type": "code",
   "execution_count": 2,
   "metadata": {},
   "outputs": [],
   "source": [
    "tem = pd.read_csv('twmdata.csv')"
   ]
  },
  {
   "cell_type": "code",
   "execution_count": 3,
   "metadata": {},
   "outputs": [
    {
     "data": {
      "text/html": [
       "<div>\n",
       "<style scoped>\n",
       "    .dataframe tbody tr th:only-of-type {\n",
       "        vertical-align: middle;\n",
       "    }\n",
       "\n",
       "    .dataframe tbody tr th {\n",
       "        vertical-align: top;\n",
       "    }\n",
       "\n",
       "    .dataframe thead th {\n",
       "        text-align: right;\n",
       "    }\n",
       "</style>\n",
       "<table border=\"1\" class=\"dataframe\">\n",
       "  <thead>\n",
       "    <tr style=\"text-align: right;\">\n",
       "      <th></th>\n",
       "      <th>x</th>\n",
       "      <th>y</th>\n",
       "    </tr>\n",
       "  </thead>\n",
       "  <tbody>\n",
       "    <tr>\n",
       "      <th>0</th>\n",
       "      <td>12</td>\n",
       "      <td>39</td>\n",
       "    </tr>\n",
       "    <tr>\n",
       "      <th>1</th>\n",
       "      <td>20</td>\n",
       "      <td>39</td>\n",
       "    </tr>\n",
       "    <tr>\n",
       "      <th>2</th>\n",
       "      <td>28</td>\n",
       "      <td>30</td>\n",
       "    </tr>\n",
       "    <tr>\n",
       "      <th>3</th>\n",
       "      <td>18</td>\n",
       "      <td>52</td>\n",
       "    </tr>\n",
       "    <tr>\n",
       "      <th>4</th>\n",
       "      <td>29</td>\n",
       "      <td>54</td>\n",
       "    </tr>\n",
       "    <tr>\n",
       "      <th>5</th>\n",
       "      <td>33</td>\n",
       "      <td>46</td>\n",
       "    </tr>\n",
       "    <tr>\n",
       "      <th>6</th>\n",
       "      <td>24</td>\n",
       "      <td>55</td>\n",
       "    </tr>\n",
       "    <tr>\n",
       "      <th>7</th>\n",
       "      <td>45</td>\n",
       "      <td>59</td>\n",
       "    </tr>\n",
       "    <tr>\n",
       "      <th>8</th>\n",
       "      <td>45</td>\n",
       "      <td>63</td>\n",
       "    </tr>\n",
       "    <tr>\n",
       "      <th>9</th>\n",
       "      <td>52</td>\n",
       "      <td>70</td>\n",
       "    </tr>\n",
       "    <tr>\n",
       "      <th>10</th>\n",
       "      <td>51</td>\n",
       "      <td>66</td>\n",
       "    </tr>\n",
       "    <tr>\n",
       "      <th>11</th>\n",
       "      <td>52</td>\n",
       "      <td>63</td>\n",
       "    </tr>\n",
       "    <tr>\n",
       "      <th>12</th>\n",
       "      <td>55</td>\n",
       "      <td>58</td>\n",
       "    </tr>\n",
       "    <tr>\n",
       "      <th>13</th>\n",
       "      <td>53</td>\n",
       "      <td>23</td>\n",
       "    </tr>\n",
       "    <tr>\n",
       "      <th>14</th>\n",
       "      <td>55</td>\n",
       "      <td>14</td>\n",
       "    </tr>\n",
       "    <tr>\n",
       "      <th>15</th>\n",
       "      <td>61</td>\n",
       "      <td>8</td>\n",
       "    </tr>\n",
       "    <tr>\n",
       "      <th>16</th>\n",
       "      <td>64</td>\n",
       "      <td>19</td>\n",
       "    </tr>\n",
       "    <tr>\n",
       "      <th>17</th>\n",
       "      <td>69</td>\n",
       "      <td>7</td>\n",
       "    </tr>\n",
       "    <tr>\n",
       "      <th>18</th>\n",
       "      <td>72</td>\n",
       "      <td>24</td>\n",
       "    </tr>\n",
       "  </tbody>\n",
       "</table>\n",
       "</div>"
      ],
      "text/plain": [
       "     x   y\n",
       "0   12  39\n",
       "1   20  39\n",
       "2   28  30\n",
       "3   18  52\n",
       "4   29  54\n",
       "5   33  46\n",
       "6   24  55\n",
       "7   45  59\n",
       "8   45  63\n",
       "9   52  70\n",
       "10  51  66\n",
       "11  52  63\n",
       "12  55  58\n",
       "13  53  23\n",
       "14  55  14\n",
       "15  61   8\n",
       "16  64  19\n",
       "17  69   7\n",
       "18  72  24"
      ]
     },
     "execution_count": 3,
     "metadata": {},
     "output_type": "execute_result"
    }
   ],
   "source": [
    "tem"
   ]
  },
  {
   "cell_type": "code",
   "execution_count": 4,
   "metadata": {},
   "outputs": [
    {
     "data": {
      "text/html": [
       "<div>\n",
       "<style scoped>\n",
       "    .dataframe tbody tr th:only-of-type {\n",
       "        vertical-align: middle;\n",
       "    }\n",
       "\n",
       "    .dataframe tbody tr th {\n",
       "        vertical-align: top;\n",
       "    }\n",
       "\n",
       "    .dataframe thead th {\n",
       "        text-align: right;\n",
       "    }\n",
       "</style>\n",
       "<table border=\"1\" class=\"dataframe\">\n",
       "  <thead>\n",
       "    <tr style=\"text-align: right;\">\n",
       "      <th></th>\n",
       "      <th>x</th>\n",
       "      <th>y</th>\n",
       "    </tr>\n",
       "  </thead>\n",
       "  <tbody>\n",
       "    <tr>\n",
       "      <th>0</th>\n",
       "      <td>12</td>\n",
       "      <td>39</td>\n",
       "    </tr>\n",
       "    <tr>\n",
       "      <th>1</th>\n",
       "      <td>20</td>\n",
       "      <td>39</td>\n",
       "    </tr>\n",
       "    <tr>\n",
       "      <th>2</th>\n",
       "      <td>28</td>\n",
       "      <td>30</td>\n",
       "    </tr>\n",
       "    <tr>\n",
       "      <th>3</th>\n",
       "      <td>18</td>\n",
       "      <td>52</td>\n",
       "    </tr>\n",
       "    <tr>\n",
       "      <th>4</th>\n",
       "      <td>29</td>\n",
       "      <td>54</td>\n",
       "    </tr>\n",
       "  </tbody>\n",
       "</table>\n",
       "</div>"
      ],
      "text/plain": [
       "    x   y\n",
       "0  12  39\n",
       "1  20  39\n",
       "2  28  30\n",
       "3  18  52\n",
       "4  29  54"
      ]
     },
     "execution_count": 4,
     "metadata": {},
     "output_type": "execute_result"
    }
   ],
   "source": [
    "df=tem[['x','y']]\n",
    "df.head()"
   ]
  },
  {
   "cell_type": "code",
   "execution_count": 5,
   "metadata": {},
   "outputs": [
    {
     "data": {
      "text/plain": [
       "(19, 2)"
      ]
     },
     "execution_count": 5,
     "metadata": {},
     "output_type": "execute_result"
    }
   ],
   "source": [
    "df.shape"
   ]
  },
  {
   "cell_type": "code",
   "execution_count": 6,
   "metadata": {},
   "outputs": [
    {
     "data": {
      "text/html": [
       "<div>\n",
       "<style scoped>\n",
       "    .dataframe tbody tr th:only-of-type {\n",
       "        vertical-align: middle;\n",
       "    }\n",
       "\n",
       "    .dataframe tbody tr th {\n",
       "        vertical-align: top;\n",
       "    }\n",
       "\n",
       "    .dataframe thead th {\n",
       "        text-align: right;\n",
       "    }\n",
       "</style>\n",
       "<table border=\"1\" class=\"dataframe\">\n",
       "  <thead>\n",
       "    <tr style=\"text-align: right;\">\n",
       "      <th></th>\n",
       "      <th>x</th>\n",
       "      <th>y</th>\n",
       "    </tr>\n",
       "  </thead>\n",
       "  <tbody>\n",
       "    <tr>\n",
       "      <th>count</th>\n",
       "      <td>19.000000</td>\n",
       "      <td>19.000000</td>\n",
       "    </tr>\n",
       "    <tr>\n",
       "      <th>mean</th>\n",
       "      <td>44.105263</td>\n",
       "      <td>41.526316</td>\n",
       "    </tr>\n",
       "    <tr>\n",
       "      <th>std</th>\n",
       "      <td>18.070525</td>\n",
       "      <td>20.753496</td>\n",
       "    </tr>\n",
       "    <tr>\n",
       "      <th>min</th>\n",
       "      <td>12.000000</td>\n",
       "      <td>7.000000</td>\n",
       "    </tr>\n",
       "    <tr>\n",
       "      <th>25%</th>\n",
       "      <td>28.500000</td>\n",
       "      <td>23.500000</td>\n",
       "    </tr>\n",
       "    <tr>\n",
       "      <th>50%</th>\n",
       "      <td>51.000000</td>\n",
       "      <td>46.000000</td>\n",
       "    </tr>\n",
       "    <tr>\n",
       "      <th>75%</th>\n",
       "      <td>55.000000</td>\n",
       "      <td>58.500000</td>\n",
       "    </tr>\n",
       "    <tr>\n",
       "      <th>max</th>\n",
       "      <td>72.000000</td>\n",
       "      <td>70.000000</td>\n",
       "    </tr>\n",
       "  </tbody>\n",
       "</table>\n",
       "</div>"
      ],
      "text/plain": [
       "               x          y\n",
       "count  19.000000  19.000000\n",
       "mean   44.105263  41.526316\n",
       "std    18.070525  20.753496\n",
       "min    12.000000   7.000000\n",
       "25%    28.500000  23.500000\n",
       "50%    51.000000  46.000000\n",
       "75%    55.000000  58.500000\n",
       "max    72.000000  70.000000"
      ]
     },
     "execution_count": 6,
     "metadata": {},
     "output_type": "execute_result"
    }
   ],
   "source": [
    "df.describe()"
   ]
  },
  {
   "cell_type": "code",
   "execution_count": 7,
   "metadata": {},
   "outputs": [
    {
     "data": {
      "text/plain": [
       "<matplotlib.collections.PathCollection at 0x25d32e88288>"
      ]
     },
     "execution_count": 7,
     "metadata": {},
     "output_type": "execute_result"
    },
    {
     "data": {
      "image/png": "[encoded data removed]",
      "text/plain": [
       "<Figure size 432x288 with 1 Axes>"
      ]
     },
     "metadata": {
      "needs_background": "light"
     },
     "output_type": "display_data"
    }
   ],
   "source": [
    "plt.scatter(df['x'], df['y'])"
   ]
  },
  {
   "cell_type": "code",
   "execution_count": 8,
   "metadata": {},
   "outputs": [
    {
     "name": "stdout",
     "output_type": "stream",
     "text": [
      "{1: [26, 16], 2: [68, 42], 3: [55, 76]}\n"
     ]
    }
   ],
   "source": [
    "#Step-1 : Selecting the random points as Centroids\n",
    "np.random.seed(200)\n",
    "k = 3\n",
    "centroids = {\n",
    "    i+1:[np.random.randint(0,80),\n",
    "         np.random.randint(0,80)] for i in range(k)\n",
    "}\n",
    "print(centroids)"
   ]
  },
  {
   "cell_type": "code",
   "execution_count": 9,
   "metadata": {},
   "outputs": [
    {
     "name": "stdout",
     "output_type": "stream",
     "text": [
      "26 16 <class 'dict'>\n",
      "68 42 <class 'dict'>\n",
      "55 76 <class 'dict'>\n"
     ]
    },
    {
     "data": {
      "image/png": "[encoded data removed]",
      "text/plain": [
       "<Figure size 360x360 with 1 Axes>"
      ]
     },
     "metadata": {
      "needs_background": "light"
     },
     "output_type": "display_data"
    }
   ],
   "source": [
    "#plot the data points with Centroids\n",
    "fig = plt.figure(figsize=(5,5))\n",
    "plt.scatter(df['x'],df['y'], color='k')\n",
    "colmap = {1:'r', 2:'g', 3:'b'}\n",
    "\n",
    "for i in centroids.keys():\n",
    "    plt.scatter(*centroids[i],color = colmap[i])\n",
    "    print(*centroids[i], type(centroids))\n",
    "    \n",
    "plt.xlim(0,80)\n",
    "plt.ylim(0,80)\n",
    "plt.show()"
   ]
  },
  {
   "cell_type": "code",
   "execution_count": 10,
   "metadata": {},
   "outputs": [
    {
     "name": "stdout",
     "output_type": "stream",
     "text": [
      "['distance_from_1', 'distance_from_2', 'distance_from_3']\n",
      "     x   y  distance_from_1  distance_from_2  distance_from_3  closest color\n",
      "0   12  39        26.925824        56.080300        56.727418        1     r\n",
      "1   20  39        23.769729        48.093659        50.931326        1     r\n",
      "2   28  30        14.142136        41.761226        53.338541        1     r\n",
      "3   18  52        36.878178        50.990195        44.102154        1     r\n",
      "4   29  54        38.118237        40.804412        34.058773        3     b\n",
      "5   33  46        30.805844        35.227830        37.202150        1     r\n",
      "6   24  55        39.051248        45.880279        37.443290        3     b\n",
      "7   45  59        47.010637        28.600699        19.723083        3     b\n",
      "8   45  63        50.695167        31.144823        16.401219        3     b\n",
      "9   52  70        59.933296        32.249031         6.708204        3     b\n",
      "10  51  66        55.901699        29.410882        10.770330        3     b\n",
      "11  52  63        53.712196        26.400758        13.341664        3     b\n",
      "12  55  58        51.039201        20.615528        18.000000        3     b\n",
      "13  53  23        27.892651        24.207437        53.037722        2     g\n",
      "14  55  14        29.068884        30.870698        62.000000        1     r\n",
      "15  61   8        35.902646        34.713110        68.264193        2     g\n",
      "16  64  19        38.118237        23.345235        57.706152        2     g\n",
      "17  69   7        43.931765        35.014283        70.405966        2     g\n",
      "18  72  24        46.690470        18.439089        54.708317        2     g\n"
     ]
    },
    {
     "data": {
      "text/html": [
       "<div>\n",
       "<style scoped>\n",
       "    .dataframe tbody tr th:only-of-type {\n",
       "        vertical-align: middle;\n",
       "    }\n",
       "\n",
       "    .dataframe tbody tr th {\n",
       "        vertical-align: top;\n",
       "    }\n",
       "\n",
       "    .dataframe thead th {\n",
       "        text-align: right;\n",
       "    }\n",
       "</style>\n",
       "<table border=\"1\" class=\"dataframe\">\n",
       "  <thead>\n",
       "    <tr style=\"text-align: right;\">\n",
       "      <th></th>\n",
       "      <th>x</th>\n",
       "      <th>y</th>\n",
       "      <th>distance_from_1</th>\n",
       "      <th>distance_from_2</th>\n",
       "      <th>distance_from_3</th>\n",
       "      <th>closest</th>\n",
       "      <th>color</th>\n",
       "    </tr>\n",
       "  </thead>\n",
       "  <tbody>\n",
       "    <tr>\n",
       "      <th>0</th>\n",
       "      <td>12</td>\n",
       "      <td>39</td>\n",
       "      <td>26.925824</td>\n",
       "      <td>56.080300</td>\n",
       "      <td>56.727418</td>\n",
       "      <td>1</td>\n",
       "      <td>r</td>\n",
       "    </tr>\n",
       "    <tr>\n",
       "      <th>1</th>\n",
       "      <td>20</td>\n",
       "      <td>39</td>\n",
       "      <td>23.769729</td>\n",
       "      <td>48.093659</td>\n",
       "      <td>50.931326</td>\n",
       "      <td>1</td>\n",
       "      <td>r</td>\n",
       "    </tr>\n",
       "    <tr>\n",
       "      <th>2</th>\n",
       "      <td>28</td>\n",
       "      <td>30</td>\n",
       "      <td>14.142136</td>\n",
       "      <td>41.761226</td>\n",
       "      <td>53.338541</td>\n",
       "      <td>1</td>\n",
       "      <td>r</td>\n",
       "    </tr>\n",
       "    <tr>\n",
       "      <th>3</th>\n",
       "      <td>18</td>\n",
       "      <td>52</td>\n",
       "      <td>36.878178</td>\n",
       "      <td>50.990195</td>\n",
       "      <td>44.102154</td>\n",
       "      <td>1</td>\n",
       "      <td>r</td>\n",
       "    </tr>\n",
       "    <tr>\n",
       "      <th>4</th>\n",
       "      <td>29</td>\n",
       "      <td>54</td>\n",
       "      <td>38.118237</td>\n",
       "      <td>40.804412</td>\n",
       "      <td>34.058773</td>\n",
       "      <td>3</td>\n",
       "      <td>b</td>\n",
       "    </tr>\n",
       "    <tr>\n",
       "      <th>5</th>\n",
       "      <td>33</td>\n",
       "      <td>46</td>\n",
       "      <td>30.805844</td>\n",
       "      <td>35.227830</td>\n",
       "      <td>37.202150</td>\n",
       "      <td>1</td>\n",
       "      <td>r</td>\n",
       "    </tr>\n",
       "    <tr>\n",
       "      <th>6</th>\n",
       "      <td>24</td>\n",
       "      <td>55</td>\n",
       "      <td>39.051248</td>\n",
       "      <td>45.880279</td>\n",
       "      <td>37.443290</td>\n",
       "      <td>3</td>\n",
       "      <td>b</td>\n",
       "    </tr>\n",
       "    <tr>\n",
       "      <th>7</th>\n",
       "      <td>45</td>\n",
       "      <td>59</td>\n",
       "      <td>47.010637</td>\n",
       "      <td>28.600699</td>\n",
       "      <td>19.723083</td>\n",
       "      <td>3</td>\n",
       "      <td>b</td>\n",
       "    </tr>\n",
       "    <tr>\n",
       "      <th>8</th>\n",
       "      <td>45</td>\n",
       "      <td>63</td>\n",
       "      <td>50.695167</td>\n",
       "      <td>31.144823</td>\n",
       "      <td>16.401219</td>\n",
       "      <td>3</td>\n",
       "      <td>b</td>\n",
       "    </tr>\n",
       "    <tr>\n",
       "      <th>9</th>\n",
       "      <td>52</td>\n",
       "      <td>70</td>\n",
       "      <td>59.933296</td>\n",
       "      <td>32.249031</td>\n",
       "      <td>6.708204</td>\n",
       "      <td>3</td>\n",
       "      <td>b</td>\n",
       "    </tr>\n",
       "    <tr>\n",
       "      <th>10</th>\n",
       "      <td>51</td>\n",
       "      <td>66</td>\n",
       "      <td>55.901699</td>\n",
       "      <td>29.410882</td>\n",
       "      <td>10.770330</td>\n",
       "      <td>3</td>\n",
       "      <td>b</td>\n",
       "    </tr>\n",
       "    <tr>\n",
       "      <th>11</th>\n",
       "      <td>52</td>\n",
       "      <td>63</td>\n",
       "      <td>53.712196</td>\n",
       "      <td>26.400758</td>\n",
       "      <td>13.341664</td>\n",
       "      <td>3</td>\n",
       "      <td>b</td>\n",
       "    </tr>\n",
       "    <tr>\n",
       "      <th>12</th>\n",
       "      <td>55</td>\n",
       "      <td>58</td>\n",
       "      <td>51.039201</td>\n",
       "      <td>20.615528</td>\n",
       "      <td>18.000000</td>\n",
       "      <td>3</td>\n",
       "      <td>b</td>\n",
       "    </tr>\n",
       "    <tr>\n",
       "      <th>13</th>\n",
       "      <td>53</td>\n",
       "      <td>23</td>\n",
       "      <td>27.892651</td>\n",
       "      <td>24.207437</td>\n",
       "      <td>53.037722</td>\n",
       "      <td>2</td>\n",
       "      <td>g</td>\n",
       "    </tr>\n",
       "    <tr>\n",
       "      <th>14</th>\n",
       "      <td>55</td>\n",
       "      <td>14</td>\n",
       "      <td>29.068884</td>\n",
       "      <td>30.870698</td>\n",
       "      <td>62.000000</td>\n",
       "      <td>1</td>\n",
       "      <td>r</td>\n",
       "    </tr>\n",
       "    <tr>\n",
       "      <th>15</th>\n",
       "      <td>61</td>\n",
       "      <td>8</td>\n",
       "      <td>35.902646</td>\n",
       "      <td>34.713110</td>\n",
       "      <td>68.264193</td>\n",
       "      <td>2</td>\n",
       "      <td>g</td>\n",
       "    </tr>\n",
       "    <tr>\n",
       "      <th>16</th>\n",
       "      <td>64</td>\n",
       "      <td>19</td>\n",
       "      <td>38.118237</td>\n",
       "      <td>23.345235</td>\n",
       "      <td>57.706152</td>\n",
       "      <td>2</td>\n",
       "      <td>g</td>\n",
       "    </tr>\n",
       "    <tr>\n",
       "      <th>17</th>\n",
       "      <td>69</td>\n",
       "      <td>7</td>\n",
       "      <td>43.931765</td>\n",
       "      <td>35.014283</td>\n",
       "      <td>70.405966</td>\n",
       "      <td>2</td>\n",
       "      <td>g</td>\n",
       "    </tr>\n",
       "    <tr>\n",
       "      <th>18</th>\n",
       "      <td>72</td>\n",
       "      <td>24</td>\n",
       "      <td>46.690470</td>\n",
       "      <td>18.439089</td>\n",
       "      <td>54.708317</td>\n",
       "      <td>2</td>\n",
       "      <td>g</td>\n",
       "    </tr>\n",
       "  </tbody>\n",
       "</table>\n",
       "</div>"
      ],
      "text/plain": [
       "     x   y  distance_from_1  distance_from_2  distance_from_3  closest color\n",
       "0   12  39        26.925824        56.080300        56.727418        1     r\n",
       "1   20  39        23.769729        48.093659        50.931326        1     r\n",
       "2   28  30        14.142136        41.761226        53.338541        1     r\n",
       "3   18  52        36.878178        50.990195        44.102154        1     r\n",
       "4   29  54        38.118237        40.804412        34.058773        3     b\n",
       "5   33  46        30.805844        35.227830        37.202150        1     r\n",
       "6   24  55        39.051248        45.880279        37.443290        3     b\n",
       "7   45  59        47.010637        28.600699        19.723083        3     b\n",
       "8   45  63        50.695167        31.144823        16.401219        3     b\n",
       "9   52  70        59.933296        32.249031         6.708204        3     b\n",
       "10  51  66        55.901699        29.410882        10.770330        3     b\n",
       "11  52  63        53.712196        26.400758        13.341664        3     b\n",
       "12  55  58        51.039201        20.615528        18.000000        3     b\n",
       "13  53  23        27.892651        24.207437        53.037722        2     g\n",
       "14  55  14        29.068884        30.870698        62.000000        1     r\n",
       "15  61   8        35.902646        34.713110        68.264193        2     g\n",
       "16  64  19        38.118237        23.345235        57.706152        2     g\n",
       "17  69   7        43.931765        35.014283        70.405966        2     g\n",
       "18  72  24        46.690470        18.439089        54.708317        2     g"
      ]
     },
     "execution_count": 10,
     "metadata": {},
     "output_type": "execute_result"
    }
   ],
   "source": [
    "# assign the data points to the closest centroid\n",
    "def assignment(df,centroids):\n",
    "    for i in centroids.keys():\n",
    "        df['distance_from_{}'.format(i)]=(np.sqrt((df['x']-centroids[i][0])**2+(df['y']-centroids[i][1])**2))\n",
    "    centroid_distance_cols=['distance_from_{}'.format(i) for i in centroids.keys()]\n",
    "    \n",
    "    df['closest']=df.loc[:,centroid_distance_cols].idxmin(axis=1)\n",
    "    df['closest']=df['closest'].map(lambda x:int(x.lstrip('distance_from_')))\n",
    "    df['color']=df['closest'].map(lambda x:colmap[x])     \n",
    "    print(centroid_distance_cols)\n",
    "    print(df)\n",
    "    return df\n",
    "\n",
    "\n",
    "df=assignment(df,centroids)\n",
    "\n",
    "df"
   ]
  },
  {
   "cell_type": "code",
   "execution_count": 11,
   "metadata": {},
   "outputs": [
    {
     "data": {
      "image/png": "[encoded data removed]",
      "text/plain": [
       "<Figure size 360x360 with 1 Axes>"
      ]
     },
     "metadata": {
      "needs_background": "light"
     },
     "output_type": "display_data"
    }
   ],
   "source": [
    "# Plot the datapoints after calcultaing & assigning the data point to the closest centroid\n",
    "fig=plt.figure(figsize=(5,5))\n",
    "plt.scatter(df['x'],df['y'],color=df['color'],alpha=0.5,edgecolor='k')\n",
    "for i in centroids.keys():\n",
    "    plt.scatter(*centroids[i],color=colmap[i])\n",
    "plt.xlim(0,80)\n",
    "plt.ylim(0,80)\n",
    "plt.show()"
   ]
  },
  {
   "cell_type": "code",
   "execution_count": 12,
   "metadata": {},
   "outputs": [],
   "source": [
    "# Update the centroid Position to make the correct groups of the misgrouped data points\n",
    "import copy \n",
    "old_centroids=copy.deepcopy(centroids)\n",
    "\n",
    "def update(k):\n",
    "    for i in centroids.keys():\n",
    "        centroids[i][0]=np.mean(df[df['closest']==i]['x'])\n",
    "        centroids[i][1]=np.mean(df[df['closest']==i]['y'])\n",
    "    return k\n",
    "# Call Function to update\n",
    "centroids=update(centroids)\n",
    "        "
   ]
  },
  {
   "cell_type": "code",
   "execution_count": 13,
   "metadata": {},
   "outputs": [
    {
     "data": {
      "image/png": "[encoded data removed]",
      "text/plain": [
       "<Figure size 360x360 with 1 Axes>"
      ]
     },
     "metadata": {
      "needs_background": "light"
     },
     "output_type": "display_data"
    }
   ],
   "source": [
    "# Plot to know whether centroid position is updated or not\n",
    "fig=plt.figure(figsize=(5,5))\n",
    "plt.scatter(df['x'],df['y'],color=df['color'],alpha=0.5,edgecolor='k')\n",
    "for i in centroids.keys():\n",
    "    plt.scatter(*centroids[i],color=colmap[i])\n",
    "plt.xlim(0,80)\n",
    "plt.ylim(0,80)\n",
    "plt.show()"
   ]
  },
  {
   "cell_type": "code",
   "execution_count": 14,
   "metadata": {},
   "outputs": [
    {
     "name": "stdout",
     "output_type": "stream",
     "text": [
      "['distance_from_1', 'distance_from_2', 'distance_from_3']\n",
      "     x   y  distance_from_1  distance_from_2  distance_from_3  closest color\n",
      "0   12  39        15.839472        56.595760        38.936045        1     r\n",
      "1   20  39         8.013877        49.378943        32.649895        1     r\n",
      "2   28  30         6.674995        38.367695        34.943034        1     r\n",
      "3   18  52        18.126101        58.131575        27.631786        1     r\n",
      "4   29  54        17.384540        51.379763        16.666302        3     b\n",
      "5   33  46        10.749677        42.856505        18.675268        1     r\n",
      "6   24  55        18.696405        55.583091        21.000372        1     r\n",
      "7   45  59        28.270519        46.746979         2.183031        3     b\n",
      "8   45  63        31.526003        50.434909         2.183031        3     b\n",
      "9   52  70        41.270113        55.078853        11.958914        3     b\n",
      "10  51  66        37.481847        51.418674         8.500919        3     b\n",
      "11  52  63        35.854645        48.264687         8.125000        3     b\n",
      "12  55  58        34.673076        42.716273        11.281207        3     b\n",
      "13  53  23        28.784641        12.762445        39.022630        2     g\n",
      "14  55  14        35.508997         9.070832        48.241742        2     g\n",
      "15  61   8        43.964632         8.664872        55.621629        2     g\n",
      "16  64  19        40.400770         2.807134        46.465209        2     g\n",
      "17  69   7        50.877849        10.567876        59.453895        2     g\n",
      "18  72  24        46.107363        11.317243        46.325108        2     g\n"
     ]
    }
   ],
   "source": [
    "# (Repeat step 2 ie) call the assignment method to map the data points again with updated centroid position\n",
    "df=assignment(df,centroids)"
   ]
  },
  {
   "cell_type": "code",
   "execution_count": 15,
   "metadata": {},
   "outputs": [
    {
     "data": {
      "image/png": "[encoded data removed]",
      "text/plain": [
       "<Figure size 360x360 with 1 Axes>"
      ]
     },
     "metadata": {
      "needs_background": "light"
     },
     "output_type": "display_data"
    }
   ],
   "source": [
    "fig=plt.figure(figsize=(5,5))\n",
    "plt.scatter(df['x'],df['y'],color=df['color'],alpha=0.5,edgecolor='k')\n",
    "for i in centroids.keys():\n",
    "    plt.scatter(*centroids[i],color=colmap[i])\n",
    "plt.xlim(0,80)\n",
    "plt.ylim(0,80)\n",
    "plt.show()"
   ]
  },
  {
   "cell_type": "code",
   "execution_count": 16,
   "metadata": {},
   "outputs": [
    {
     "name": "stdout",
     "output_type": "stream",
     "text": [
      "['distance_from_1', 'distance_from_2', 'distance_from_3']\n",
      "     x   y  distance_from_1  distance_from_2  distance_from_3  closest color\n",
      "0   12  39        11.423660        55.408834        41.802500        1     r\n",
      "1   20  39         5.147815        48.257699        35.375825        1     r\n",
      "2   28  30        14.577380        37.141247        37.092823        1     r\n",
      "3   18  52         9.617692        57.214266        30.629451        1     r\n",
      "4   29  54        12.349089        50.673519        19.640130        1     r\n",
      "5   33  46        10.793517        42.076980        21.152990        1     r\n",
      "6   24  55        11.597414        54.803943        24.000425        1     r\n",
      "7   45  59        27.322152        46.516723         3.487587        3     b\n",
      "8   45  63        29.774150        50.250760         2.303502        3     b\n",
      "9   52  70        39.654760        55.143500         9.555424        3     b\n",
      "10  51  66        36.311155        51.430914         5.758756        3     b\n",
      "11  52  63        35.362409        48.285321         5.128949        3     b\n",
      "12  55  58        35.587919        42.799598         8.881303        3     b\n",
      "13  53  23        36.749150        11.767422        39.317649        2     g\n",
      "14  55  14        43.891913         7.559027        48.521193        2     g\n",
      "15  61   8        52.368884         7.945998        55.647029        2     g\n",
      "16  64  19        48.192323         3.578485        46.105690        2     g\n",
      "17  69   7        59.114296        11.066717        59.104197        2     g\n",
      "18  72  24        53.202444        12.654600        45.366984        2     g\n",
      "['distance_from_1', 'distance_from_2', 'distance_from_3']\n",
      "     x   y  distance_from_1  distance_from_2  distance_from_3  closest color\n",
      "0   12  39        12.907837        55.408834        45.033629        1     r\n",
      "1   20  39         6.910507        48.257699        38.523081        1     r\n",
      "2   28  30        15.681134        37.141247        39.799846        1     r\n",
      "3   18  52         8.858295        57.214266        33.892395        1     r\n",
      "4   29  54        10.584933        50.673519        22.913485        1     r\n",
      "5   33  46         9.623526        42.076980        24.159769        1     r\n",
      "6   24  55        10.016313        54.803943        27.252421        1     r\n",
      "7   45  59        25.716270        46.516723         6.508541        3     b\n",
      "8   45  63        28.094956        50.250760         5.002777        3     b\n",
      "9   52  70        37.964806        55.143500         7.120003        3     b\n",
      "10  51  66        34.658097        51.430914         3.004626        3     b\n",
      "11  52  63        33.768721        48.285321         2.006932        3     b\n",
      "12  55  58        34.143156        42.799598         7.189885        3     b\n",
      "13  53  23        36.857420        11.767422        40.278544        2     g\n",
      "14  55  14        44.246526         7.559027        49.420250        2     g\n",
      "15  61   8        52.731511         7.945998        56.252654        2     g\n",
      "16  64  19        48.187559         3.578485        46.332434        2     g\n",
      "17  69   7        59.335951        11.066717        59.293292        2     g\n",
      "18  72  24        52.916762        12.654600        44.922464        2     g\n"
     ]
    },
    {
     "data": {
      "text/plain": [
       "<function matplotlib.pyplot.show(*args, **kw)>"
      ]
     },
     "execution_count": 16,
     "metadata": {},
     "output_type": "execute_result"
    },
    {
     "data": {
      "image/png": "[encoded data removed]",
      "text/plain": [
       "<Figure size 360x360 with 1 Axes>"
      ]
     },
     "metadata": {
      "needs_background": "light"
     },
     "output_type": "display_data"
    }
   ],
   "source": [
    "while True:\n",
    "    closest_centroids=df['closest'].copy(deep=True)\n",
    "    centroids=update(centroids)\n",
    "    df=assignment(df,centroids)\n",
    "    if closest_centroids.equals(df['closest']):\n",
    "        break\n",
    "fig=plt.figure(figsize=(5,5))\n",
    "plt.scatter(df['x'],df['y'],color=df['color'],alpha=0.5,edgecolor='k')\n",
    "for i in centroids.keys():\n",
    "    plt.scatter(*centroids[i],color=colmap[i])\n",
    "plt.xlim(0,80)\n",
    "plt.ylim(0,80)\n",
    "plt.show\n"
   ]
  },
  {
   "cell_type": "code",
   "execution_count": null,
   "metadata": {},
   "outputs": [],
   "source": [
    "# How to find the optimum k value with L-Bow method\n",
    "from sklearn.cluster import KMeans\n",
    "for k in range(1, 10):\n",
    "    kmeans = KMeans(n_clusters=k, max_iter=1000).fit(tem)\n",
    "    df[\"clusters\"] = kmeans.labels_\n",
    "    #print(data[\"clusters\"])\n",
    "    sse[k] = kmeans.inertia_ # Inertia: Sum of distances of samples to their closest cluster center\n",
    "plt.figure()\n",
    "plt.plot(list(sse.keys()), list(sse.values()))\n",
    "plt.xlabel(\"Number of cluster-K value\")\n",
    "plt.ylabel(\"WCSS-Within Cluster Sum of Squared errors\")\n",
    "plt.show()"
   ]
  }
 ],
 "metadata": {
  "kernelspec": {
   "display_name": "Python 3",
   "language": "python",
   "name": "python3"
  },
  "language_info": {
   "codemirror_mode": {
    "name": "ipython",
    "version": 3
   },
   "file_extension": ".py",
   "mimetype": "text/x-python",
   "name": "python",
   "nbconvert_exporter": "python",
   "pygments_lexer": "ipython3",
   "version": "3.7.6"
  }
 },
 "nbformat": 4,
 "nbformat_minor": 4
}
